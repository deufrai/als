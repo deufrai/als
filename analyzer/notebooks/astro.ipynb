{
 "cells": [
  {
   "cell_type": "code",
   "execution_count": null,
   "id": "a10f2d9c",
   "metadata": {},
   "outputs": [],
   "source": [
    "import pandas as pd\n",
    "import matplotlib.pyplot as plt\n",
    "import seaborn as sns\n",
    "from matplotlib.dates import DateFormatter"
   ]
  },
  {
   "cell_type": "code",
   "execution_count": null,
   "id": "e20cf7d0",
   "metadata": {},
   "outputs": [],
   "source": [
    "plt.rcParams[\"figure.figsize\"] = (16, 3)\n",
    "plt.rcParams[\"axes.grid\"] = True"
   ]
  },
  {
   "cell_type": "code",
   "execution_count": null,
   "id": "9aac2ab3",
   "metadata": {},
   "outputs": [],
   "source": [
    "ds = pd.read_csv(\"../csv/session.csv\", delimiter=';', parse_dates=['timestamp'], index_col=0)\n",
    "dg = pd.read_csv(\"../csv/global_returns.csv\", delimiter=';', parse_dates=['timestamp'], index_col=0)\n",
    "dt = pd.read_csv(\"../csv/processing_timings.csv\", delimiter=';', parse_dates=['timestamp'])\n",
    "di = pd.read_csv(\"../csv/issues.csv\", delimiter=';', parse_dates=['timestamp'], index_col=0)\n"
   ]
  },
  {
   "cell_type": "markdown",
   "id": "968f3759",
   "metadata": {},
   "source": [
    "# Session data"
   ]
  },
  {
   "cell_type": "code",
   "execution_count": null,
   "id": "dc5fbf2b",
   "metadata": {},
   "outputs": [],
   "source": [
    "def describe(frames, types, labels):\n",
    "    \"\"\"\n",
    "    abbreaviated version of pd.describe in horizontal layout\n",
    "    \n",
    "    needs 3 *size-matched* lists\n",
    "    \n",
    "    :param frames: a list of frames to describe\n",
    "    :param types: list of event types to describe\n",
    "    :param labels: labels for values of each event types\n",
    "    \"\"\"\n",
    "    storage = []\n",
    "    \n",
    "    for frame, type_n, label in zip(frames, types, labels):\n",
    "        \n",
    "        description = frame[frame.type == type_n].describe()\n",
    "        description.rename(columns={'value': label}, inplace=True)\n",
    "        storage.append(description)\n",
    "        \n",
    "    return pd.concat(storage, axis=1).loc[['mean', 'min', 'max', 'std', 'count']].transpose()"
   ]
  },
  {
   "cell_type": "code",
   "execution_count": null,
   "id": "3ed0ad38",
   "metadata": {},
   "outputs": [],
   "source": [
    "print(f\"ALS start time: {str(ds.index[0])}\")\n",
    "print(f\"ALS stop time : {str(ds.index[-1])}\")"
   ]
  },
  {
   "cell_type": "markdown",
   "id": "8010effd",
   "metadata": {},
   "source": [
    "# Alignment"
   ]
  },
  {
   "cell_type": "markdown",
   "id": "8910c572",
   "metadata": {},
   "source": [
    "### translations"
   ]
  },
  {
   "cell_type": "code",
   "execution_count": null,
   "id": "7b5cd447",
   "metadata": {},
   "outputs": [],
   "source": [
    "ax = ds[ds.type == \"x_trans\"].plot(title=\"Image translations\",\n",
    "                                             sharex=True,\n",
    "                                             y='value',\n",
    "                                             label=\"x\",\n",
    "                                             ylabel=\"px\",\n",
    "                                             figsize=(16, 2))\n",
    "\n",
    "ds[ds.type == \"y_trans\"].plot( y='value', label=\"y\", ax=ax, xlabel=\"\")\n",
    "\n",
    "\n",
    "\n",
    "plt.show()\n",
    "\n",
    "all_trans = [ds[(ds.type == \"x_trans\")], ds[(ds.type == \"y_trans\")]]\n",
    "\n",
    "describe(all_trans, ['x_trans', 'y_trans'], ['translation x (px)', 'translation y (px)'])"
   ]
  },
  {
   "cell_type": "code",
   "execution_count": null,
   "id": "0c7cab74",
   "metadata": {},
   "outputs": [],
   "source": [
    "import math\n",
    "rot=ds[ds.type == 'rotation'].copy()\n",
    "rot['value'] = rot['value'].apply(lambda v:  math.degrees(v))\n",
    "\n",
    "\n",
    "rot.plot(title=\"Image rotations\",\n",
    "    y='value', legend=False, ylabel=\"degrees\", xlabel='', figsize=(16, 2))\n",
    "plt.show()\n",
    "\n",
    "describe([rot], ['rotation'], ['rotation (°)'])"
   ]
  },
  {
   "cell_type": "code",
   "execution_count": null,
   "id": "374e8799",
   "metadata": {},
   "outputs": [],
   "source": [
    "scale = ds[ds.type == 'scale']\n",
    "scale.plot(y=\"value\", legend=False, figsize=(16, 2), title=\"Image scalings\")\n",
    "plt.show()\n",
    "\n",
    "describe([scale], ['scale'], ['scale'])\n"
   ]
  },
  {
   "cell_type": "code",
   "execution_count": null,
   "id": "08c67877",
   "metadata": {},
   "outputs": [],
   "source": [
    "rat=ds[ds.type == 'ratio'].copy()\n",
    "rat['value'] = rat['value'].apply(lambda v:  v * 100)\n",
    "\n",
    "rat.plot(\n",
    "    kind=\"bar\", y='value', label='ratio',\n",
    "    ylabel=\"%\",\n",
    "    title=\"match detection surface ratio\",\n",
    "    xticks=[], xlabel=\"\", legend=False, figsize=(16,1), ylim=(0, 100),\n",
    "    grid=False\n",
    ")\n",
    "plt.show()"
   ]
  },
  {
   "cell_type": "code",
   "execution_count": null,
   "id": "7a243fec",
   "metadata": {},
   "outputs": [],
   "source": [
    "matches = ds[ds.type == 'matches']\n",
    "ax = matches.plot(\n",
    "    y='value',\n",
    "    title=\"frame match count vs required minimum\",\n",
    "    ylim=(0,ds[ds.type == 'matches'].value.max() + 5),\n",
    "    xlabel=\"\",\n",
    "    label=\"matches\",\n",
    "    figsize=(16, 2)\n",
    ")\n",
    "\n",
    "ds[ds.type == 'req_matches'].plot(ax=ax, y='value', label='required', xlabel='')\n",
    "\n",
    "plt.show()\n",
    "\n",
    "describe([matches], ['matches'], ['matches'])"
   ]
  },
  {
   "cell_type": "code",
   "execution_count": null,
   "id": "afbee739",
   "metadata": {},
   "outputs": [],
   "source": [
    "ds[ds.type == 'align'].plot(\n",
    "    kind=\"bar\",\n",
    "    grid=False,\n",
    "    xticks=[], xlabel=\"\",\n",
    "    legend=False,\n",
    "    figsize=(16,1),\n",
    "    title=\"frame compliance to min. required match count. 1: Accepted, 0: Rejected\"\n",
    ")\n",
    "plt.show()"
   ]
  },
  {
   "cell_type": "code",
   "execution_count": null,
   "id": "2e58c468",
   "metadata": {},
   "outputs": [],
   "source": [
    "ds[ds.type == 'align'].value.transform(lambda x: \"accepted\" if x == 1. else \"rejected\").value_counts()"
   ]
  },
  {
   "cell_type": "code",
   "execution_count": null,
   "id": "c2ae2016",
   "metadata": {},
   "outputs": [],
   "source": [
    "data = ds[ds.type == 'align'].value.transform(lambda x: \"accepted\" if x == 1. else \"rejected\").value_counts()\n",
    "data.plot(\n",
    "    kind=\"pie\",\n",
    "    autopct='%1.1f%%',\n",
    "    title=\"accepted/rejected frames distribution\",\n",
    "    ylabel=\"\", explode=(([0.1 for x in range(len(data))])), figsize=(6,6)\n",
    ")\n",
    "plt.show()"
   ]
  },
  {
   "cell_type": "markdown",
   "id": "e1b07d24",
   "metadata": {},
   "source": [
    "# Issues"
   ]
  },
  {
   "cell_type": "markdown",
   "id": "9df8b167-c03f-4f1d-b3b4-9dc52da0cf5f",
   "metadata": {},
   "source": [
    "## Global"
   ]
  },
  {
   "cell_type": "code",
   "execution_count": null,
   "id": "639cc26d-135d-49db-8744-6d2239647738",
   "metadata": {},
   "outputs": [],
   "source": [
    "pd.DataFrame(di.level.value_counts())"
   ]
  },
  {
   "cell_type": "code",
   "execution_count": null,
   "id": "54c6a2ec-e7b5-4762-9e50-712df45a92fa",
   "metadata": {},
   "outputs": [],
   "source": [
    "di.level.hist(figsize=(2,3))\n",
    "plt.show()"
   ]
  },
  {
   "cell_type": "markdown",
   "id": "2da14078-b5a6-4ee7-a306-6100cbb5f5e2",
   "metadata": {},
   "source": [
    "## Errors"
   ]
  },
  {
   "cell_type": "code",
   "execution_count": null,
   "id": "07dd8952-e68c-4a56-aca8-5bb9e2f329f2",
   "metadata": {},
   "outputs": [],
   "source": [
    "pd.options.display.max_colwidth = 256\n",
    "pd.options.display.max_rows = 1024\n",
    "di[di.level == \"ERROR\"].head()"
   ]
  },
  {
   "cell_type": "markdown",
   "id": "7356714d-9abd-46c2-bb87-ff5b357f3f3b",
   "metadata": {},
   "source": [
    "## Warnings"
   ]
  },
  {
   "cell_type": "code",
   "execution_count": null,
   "id": "d098720f-10a7-4eb7-8453-c0a65c61212f",
   "metadata": {},
   "outputs": [],
   "source": [
    "di[di.level == \"WARNING\"].head()"
   ]
  },
  {
   "cell_type": "markdown",
   "id": "8bcdade7-af06-480d-9f1e-6a443b75fcea",
   "metadata": {},
   "source": [
    "# Queues"
   ]
  },
  {
   "cell_type": "code",
   "execution_count": null,
   "id": "4331d4a2",
   "metadata": {},
   "outputs": [],
   "source": [
    "def plot_queue_size(data, title):\n",
    "    \n",
    "    data.plot(kind='bar', title=title,\n",
    "              xlabel=\"\",\n",
    "              figsize=(16, 2),\n",
    "              legend=False, xticks=[])\n",
    "    plt.show()"
   ]
  },
  {
   "cell_type": "code",
   "execution_count": null,
   "id": "cf579ca1",
   "metadata": {},
   "outputs": [],
   "source": [
    "plot_queue_size(ds[ds.type == 'q_pre'], \"Pre-processing queue size\")"
   ]
  },
  {
   "cell_type": "code",
   "execution_count": null,
   "id": "90873c7b",
   "metadata": {},
   "outputs": [],
   "source": [
    "plot_queue_size(ds[ds.type == 'q_stack'], \"Stacking queue size\")"
   ]
  },
  {
   "cell_type": "code",
   "execution_count": null,
   "id": "9bbb9fd8",
   "metadata": {},
   "outputs": [],
   "source": [
    "plot_queue_size(ds[ds.type == 'q_post'], \"Post-processing queue size\")"
   ]
  },
  {
   "cell_type": "code",
   "execution_count": null,
   "id": "dbbd1933",
   "metadata": {},
   "outputs": [],
   "source": [
    "plot_queue_size(ds[ds.type == 'q_save'], \"Save queue size\")"
   ]
  },
  {
   "cell_type": "code",
   "execution_count": null,
   "id": "21208703",
   "metadata": {},
   "outputs": [],
   "source": [
    "data = ds[ds.type.str.startswith('q_')]\n",
    "data = data.replace(to_replace={\n",
    "    \"q_pre\": \"Pre-processing\",\n",
    "    \"q_stack\": \"Stacking\",\n",
    "    \"q_post\": \"Post-processing\",\n",
    "    \"q_save\": \"Save\",\n",
    "    })\n",
    "\n",
    "plt.figure(figsize=(16, 6))\n",
    "plt.grid(False)\n",
    "ax = sns.barplot(data = data, x=data.index, y='value', hue='type')\n",
    "ax.set(ylabel=\"\", title=\"Combined queue sizes\")\n",
    "ax.set(xticks=[])\n",
    "plt.show()\n",
    "\n"
   ]
  },
  {
   "cell_type": "markdown",
   "id": "fc9cf42b",
   "metadata": {},
   "source": [
    "# Timings"
   ]
  },
  {
   "cell_type": "code",
   "execution_count": null,
   "id": "a387f777",
   "metadata": {},
   "outputs": [],
   "source": [
    "total = ds[ds.type == 'frm_total']\n",
    "total.plot(title=\"Total frame processing time\",\n",
    "                                ylabel=\"second\", figsize=(16, 6), legend=False)\n",
    "plt.show()\n",
    "describe([total], ['frm_total'], ['Total frame processing time'])"
   ]
  },
  {
   "cell_type": "code",
   "execution_count": null,
   "id": "7bb283ba",
   "metadata": {},
   "outputs": [],
   "source": [
    "def plot_timings(name_dict, title):\n",
    "\n",
    "    pre_data = dt[dt['name'].isin(name_dict.keys())].copy()\n",
    "    \n",
    "    for k, v in name_dict.items():\n",
    "        pre_data.loc[pre_data['name'] == k, 'name'] = v\n",
    "        \n",
    "    pre_data = pre_data.rename(columns={'name': 'process'})\n",
    "    \n",
    "    sns.lineplot(data=pre_data, x='timestamp', y='elapsed', hue='process').set(title=title, ylabel='ms')\n",
    "    plt.plot()\n",
    "    return pre_data\n",
    "\n",
    "    "
   ]
  },
  {
   "cell_type": "code",
   "execution_count": null,
   "id": "541c7513",
   "metadata": {},
   "outputs": [],
   "source": [
    "prepro_name_dict = {\n",
    "    'HotPixelRemover.process_image()': 'H.P. Remove',\n",
    "    'RemoveDark.process_image()': 'Dark remove',\n",
    "    'Debayer.process_image()': 'Debayer',\n",
    "    'Standardize.process_image()': 'Nomalize',\n",
    "    'read_disk_image()': 'Load'\n",
    "}\n",
    "\n",
    "pre_data = plot_timings(prepro_name_dict, \"Pre-processing time\")\n",
    "\n"
   ]
  },
  {
   "cell_type": "code",
   "execution_count": null,
   "id": "6c42fb55",
   "metadata": {},
   "outputs": [],
   "source": [
    "pre_data.groupby('process').describe().iloc[:, [1,3,7,0,2]]"
   ]
  },
  {
   "cell_type": "code",
   "execution_count": null,
   "id": "4162f854",
   "metadata": {},
   "outputs": [],
   "source": [
    "stack_name_dict = {\n",
    "    \"Stacker._find_transformation()\": \"Find transf.\",\n",
    "    \"Stacker._apply_transformation()\": \"Apply Transf.\",\n",
    "    \"Stacker._stack_image()\": \"Stack\"\n",
    "}\n",
    "\n",
    "st_data = plot_timings(stack_name_dict, \"Stacking time\")"
   ]
  },
  {
   "cell_type": "code",
   "execution_count": null,
   "id": "87a8791b",
   "metadata": {},
   "outputs": [],
   "source": [
    "st_data.groupby('process').describe().iloc[:, [1,3,7,0,2]]"
   ]
  },
  {
   "cell_type": "code",
   "execution_count": null,
   "id": "6c1ce930",
   "metadata": {},
   "outputs": [],
   "source": [
    "old_new_pp_names_dict = {\n",
    "    'AutoStretch.process_image()': 'Stretch',\n",
    "    'Levels.process_image()': 'Levels',\n",
    "    'ColorBalance.process_image()': 'Col. Balance',\n",
    "    'ImageSaver._save_image()': 'Save'\n",
    "}\n",
    "\n",
    "po_data = plot_timings(old_new_pp_names_dict, \"Post-process timing\")"
   ]
  },
  {
   "cell_type": "code",
   "execution_count": null,
   "id": "a21f25a9",
   "metadata": {},
   "outputs": [],
   "source": [
    "po_data.groupby('process').describe().iloc[:, [1,3,7,0,2]]"
   ]
  }
 ],
 "metadata": {
  "celltoolbar": "Aucun(e)",
  "kernelspec": {
   "display_name": "venv",
   "language": "python",
   "name": "venv"
  },
  "language_info": {
   "codemirror_mode": {
    "name": "ipython",
    "version": 3
   },
   "file_extension": ".py",
   "mimetype": "text/x-python",
   "name": "python",
   "nbconvert_exporter": "python",
   "pygments_lexer": "ipython3",
   "version": "3.6.9"
  }
 },
 "nbformat": 4,
 "nbformat_minor": 5
}
