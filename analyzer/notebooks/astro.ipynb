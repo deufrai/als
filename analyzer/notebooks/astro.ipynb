{
 "cells": [
  {
   "cell_type": "code",
   "execution_count": null,
   "id": "a10f2d9c",
   "metadata": {},
   "outputs": [],
   "source": [
    "import pandas as pd\n",
    "import matplotlib.pyplot as plt"
   ]
  },
  {
   "cell_type": "code",
   "execution_count": null,
   "id": "e20cf7d0",
   "metadata": {},
   "outputs": [],
   "source": [
    "plt.rcParams[\"figure.figsize\"] = (12, 3)\n",
    "plt.rcParams[\"axes.grid\"] = True"
   ]
  },
  {
   "cell_type": "code",
   "execution_count": null,
   "id": "bad939b9",
   "metadata": {},
   "outputs": [],
   "source": [
    "def describe_df(df):\n",
    "    stats = df.copy()\n",
    "    stats['Total'] = stats.sum(axis=1)\n",
    "    return pd.DataFrame(stats.describe()).iloc[[3,1,-1,2]]\n",
    "\n"
   ]
  },
  {
   "cell_type": "code",
   "execution_count": null,
   "id": "c0d34208",
   "metadata": {},
   "outputs": [],
   "source": [
    "df_prep = pd.read_csv(\"../csv/timings_pre_processing.csv\", delimiter=';')\n",
    "df_stack = pd.read_csv(\"../csv/timings_stacking.csv\", delimiter=';')\n",
    "df_post = pd.read_csv(\"../csv/timings_post_process.csv\", delimiter=';')\n",
    "df_sd = pd.read_csv(\"../csv/stacking_data.csv\", delimiter=';')"
   ]
  },
  {
   "cell_type": "markdown",
   "id": "b8ab2938",
   "metadata": {},
   "source": [
    "# Timings"
   ]
  },
  {
   "cell_type": "markdown",
   "id": "a93a8d2b",
   "metadata": {},
   "source": [
    "### Pre-processing timings"
   ]
  },
  {
   "cell_type": "code",
   "execution_count": null,
   "id": "b5ccaa84",
   "metadata": {},
   "outputs": [],
   "source": [
    "describe_df(df_prep)"
   ]
  },
  {
   "cell_type": "code",
   "execution_count": null,
   "id": "67ebe7d9",
   "metadata": {},
   "outputs": [],
   "source": [
    "df_prep.plot(xlabel=\"frame\", ylabel=\"exection time (ms)\", title=\"pre-process execution times\")\n",
    "plt.show()"
   ]
  },
  {
   "cell_type": "markdown",
   "id": "0cbddd30",
   "metadata": {},
   "source": [
    "### Stacking timings"
   ]
  },
  {
   "cell_type": "code",
   "execution_count": null,
   "id": "00d5b4a4",
   "metadata": {},
   "outputs": [],
   "source": [
    "describe_df(df_stack)"
   ]
  },
  {
   "cell_type": "code",
   "execution_count": null,
   "id": "e65d88cd",
   "metadata": {},
   "outputs": [],
   "source": [
    "df_stack.plot(xlabel=\"frame\", ylabel=\"exection time (ms)\", title=\"stacker execution times\")\n",
    "plt.show()"
   ]
  },
  {
   "cell_type": "markdown",
   "id": "e3228cb4",
   "metadata": {},
   "source": [
    "### Post-processing timings"
   ]
  },
  {
   "cell_type": "code",
   "execution_count": null,
   "id": "18122f0b",
   "metadata": {},
   "outputs": [],
   "source": [
    "describe_df(df_post)"
   ]
  },
  {
   "cell_type": "code",
   "execution_count": null,
   "id": "6db57e6a",
   "metadata": {},
   "outputs": [],
   "source": [
    "df_post.plot(xlabel=\"frame\", ylabel=\"exection time (ms)\", title=\"post-process execution times\")\n",
    "plt.show()"
   ]
  },
  {
   "cell_type": "markdown",
   "id": "8010effd",
   "metadata": {},
   "source": [
    "# Parameters"
   ]
  },
  {
   "cell_type": "markdown",
   "id": "d90c7952",
   "metadata": {},
   "source": [
    "### Alignment parameters"
   ]
  },
  {
   "cell_type": "code",
   "execution_count": null,
   "id": "e96f2290",
   "metadata": {},
   "outputs": [],
   "source": [
    "describe_df(df_sd)"
   ]
  },
  {
   "cell_type": "code",
   "execution_count": null,
   "id": "7b5cd447",
   "metadata": {},
   "outputs": [],
   "source": [
    "df_sd[['x_trans', 'y_trans']].plot(\n",
    "    \n",
    "    xlabel=\"frame\", \n",
    "    ylabel=\"translation (px)\", \n",
    "    title=\"applied translation for each frame\")\n",
    "\n",
    "plt.show()"
   ]
  },
  {
   "cell_type": "code",
   "execution_count": null,
   "id": "0c7cab74",
   "metadata": {},
   "outputs": [],
   "source": [
    "import math\n",
    "(df_sd['rotation']/(2*math.pi)*360).plot(\n",
    "    \n",
    "    xlabel=\"frame\", \n",
    "    ylabel=\"image rotation (degrees)\",\n",
    "    title=\"applied rotation for each frame\")\n",
    "plt.show()"
   ]
  },
  {
   "cell_type": "code",
   "execution_count": null,
   "id": "5a5c4f33",
   "metadata": {},
   "outputs": [],
   "source": [
    "(df_sd['ratio']*100).plot(\n",
    "    \n",
    "    kind=\"bar\",\n",
    "    xlabel=\"frame\",\n",
    "    ylabel=\"detection surface ratio (%)\",\n",
    "    title=\"match detection surface ratio\",\n",
    "    grid=False\n",
    ")\n",
    "plt.show()"
   ]
  },
  {
   "cell_type": "code",
   "execution_count": null,
   "id": "7a243fec",
   "metadata": {},
   "outputs": [],
   "source": [
    "df_sd[['matches', 'req_matches']].plot(\n",
    "    \n",
    "    xlabel=\"frame\",\n",
    "    ylabel=\"match count\",\n",
    "#     ylim=(0, df_sd['matches'].max() + 10),\n",
    "    title=\"frame vs reference match count vs required minimum\"\n",
    ")\n",
    "plt.show()"
   ]
  },
  {
   "cell_type": "code",
   "execution_count": null,
   "id": "afbee739",
   "metadata": {},
   "outputs": [],
   "source": [
    "df_sd['accepted'].transform(lambda x: 1 if x else 0).plot(\n",
    "    \n",
    "    kind=\"bar\",\n",
    "    grid=False,\n",
    "    xlabel=\"frame\",\n",
    "    ylabel=\"Accepted\",\n",
    "    title=\"image compliance to minimum match count requirements. 1: Accepted, 0: Rejected\"\n",
    "    \n",
    ")\n",
    "plt.show()"
   ]
  },
  {
   "cell_type": "code",
   "execution_count": null,
   "id": "c2ae2016",
   "metadata": {},
   "outputs": [],
   "source": [
    "df_sd['accepted'].transform(lambda x: \"accepted\" if x else \"rejected\").value_counts().plot(\n",
    "    \n",
    "    kind=\"pie\",\n",
    "    autopct='%1.1f%%',\n",
    "    title=\"accepted/rejected frames distribution\",\n",
    "    ylabel=\"\"\n",
    ")\n",
    "plt.show()"
   ]
  }
 ],
 "metadata": {
  "celltoolbar": "Aucun(e)",
  "kernelspec": {
   "display_name": "venv",
   "language": "python",
   "name": "venv"
  },
  "language_info": {
   "codemirror_mode": {
    "name": "ipython",
    "version": 3
   },
   "file_extension": ".py",
   "mimetype": "text/x-python",
   "name": "python",
   "nbconvert_exporter": "python",
   "pygments_lexer": "ipython3",
   "version": "3.8.10"
  }
 },
 "nbformat": 4,
 "nbformat_minor": 5
}
