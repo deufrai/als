{
 "cells": [
  {
   "cell_type": "code",
   "execution_count": null,
   "id": "a10f2d9c",
   "metadata": {},
   "outputs": [],
   "source": [
    "import pandas as pd\n",
    "import matplotlib.pyplot as plt\n",
    "import seaborn as sns\n",
    "from matplotlib.dates import DateFormatter"
   ]
  },
  {
   "cell_type": "code",
   "execution_count": null,
   "id": "e20cf7d0",
   "metadata": {},
   "outputs": [],
   "source": [
    "plt.rcParams[\"figure.figsize\"] = (16, 3)\n",
    "plt.rcParams[\"axes.grid\"] = True"
   ]
  },
  {
   "cell_type": "code",
   "execution_count": null,
   "id": "48b89b90",
   "metadata": {},
   "outputs": [],
   "source": [
    "def plot_timings(name_dict, title):\n",
    "\n",
    "    pre_data = dt[dt['name'].isin(name_dict.keys())].copy()\n",
    "    for k, v in name_dict.items():\n",
    "        pre_data.loc[pre_data['name'] == k, 'name'] = v\n",
    "    pre_data = pre_data.rename(columns={'name': 'process'})\n",
    "    ax = sns.lineplot(data=pre_data, x='timestamp', y='elapsed', hue='process').set(title=title)\n",
    "    plt.grid(False)\n",
    "    plt.show()"
   ]
  },
  {
   "cell_type": "code",
   "execution_count": null,
   "id": "c0d34208",
   "metadata": {},
   "outputs": [],
   "source": [
    "ds = pd.read_csv(\"../csv/session.csv\", delimiter=';')\n",
    "dg = pd.read_csv(\"../csv/global_returns.csv\", delimiter=';')\n",
    "dt = pd.read_csv(\"../csv/processing_timings.csv\", delimiter=';')\n"
   ]
  },
  {
   "cell_type": "markdown",
   "id": "b8ab2938",
   "metadata": {},
   "source": [
    "# Session data"
   ]
  },
  {
   "cell_type": "code",
   "execution_count": null,
   "id": "3ed0ad38",
   "metadata": {},
   "outputs": [],
   "source": [
    "print(f\"ALS start time: {dg.iloc[0,0][:-4]}\")\n",
    "print(f\"ALS stop time:  {dg.iloc[-1,0][:-4]}\")\n"
   ]
  },
  {
   "cell_type": "markdown",
   "id": "8010effd",
   "metadata": {},
   "source": [
    "# Alignment"
   ]
  },
  {
   "cell_type": "code",
   "execution_count": null,
   "id": "7b5cd447",
   "metadata": {},
   "outputs": [],
   "source": [
    "ax = ds[ds.type == \"x_trans\"].plot(title=\"Image translations\",\n",
    "                                             x='timestamp', sharex=True,\n",
    "                                             y='value',\n",
    "                                             label=\"x\",\n",
    "                                             ylabel=\"translation (px)\",\n",
    "                                             figsize=(16, 2))\n",
    "\n",
    "ds[ds.type == \"y_trans\"].plot(x='timestamp', y='value', label=\"y\", ax=ax, xlabel=\"\")\n",
    "\n",
    "ax.xaxis.set_major_formatter(DateFormatter(\"%H:%M:%S\"))\n",
    "\n",
    "plt.show()\n"
   ]
  },
  {
   "cell_type": "code",
   "execution_count": null,
   "id": "0c7cab74",
   "metadata": {},
   "outputs": [],
   "source": [
    "import math\n",
    "rot=ds[ds.type == 'rotation'].copy()\n",
    "rot['value'] = rot['value'].apply(lambda v:  math.degrees(v))\n",
    "\n",
    "\n",
    "rot.plot(title=\"Image rotations\",\n",
    "    x='timestamp', y='value', legend=False, ylabel=\"Rotation (degrees)\", xlabel='', figsize=(16, 2))\n",
    "plt.show()"
   ]
  },
  {
   "cell_type": "code",
   "execution_count": null,
   "id": "374e8799",
   "metadata": {},
   "outputs": [],
   "source": [
    "ds[ds.type == 'scale'].plot(x=\"timestamp\", y=\"value\", legend=False,\n",
    "                           figsize=(16, 2), title=\"Image scalings\")\n",
    "plt.show()"
   ]
  },
  {
   "cell_type": "code",
   "execution_count": null,
   "id": "08c67877",
   "metadata": {},
   "outputs": [],
   "source": [
    "rat=ds[ds.type == 'ratio'].copy()\n",
    "rat['value'] = rat['value'].apply(lambda v:  v * 100)\n",
    "\n",
    "rat.plot(\n",
    "    kind=\"bar\", x='timestamp', y='value', label='ratio',\n",
    "    ylabel=\"%\",\n",
    "    title=\"match detection surface ratio\",\n",
    "    xticks=[], xlabel=\"\", legend=False, figsize=(16,1), ylim=(0, 100),\n",
    "    grid=False\n",
    ")\n",
    "plt.show()"
   ]
  },
  {
   "cell_type": "code",
   "execution_count": null,
   "id": "7a243fec",
   "metadata": {},
   "outputs": [],
   "source": [
    "ax = ds[ds.type == 'matches'].plot(\n",
    "    x='timestamp',\n",
    "    y='value',\n",
    "    title=\"frame match count vs required minimum\",\n",
    "    ylim=(0,ds[ds.type == 'matches'].value.max() + 5),\n",
    "    xlabel=\"\",\n",
    "    label=\"matches\",\n",
    "    figsize=(16, 2)\n",
    ")\n",
    "\n",
    "ds[ds.type == 'req_matches'].plot(ax=ax,x='timestamp', y='value', label='required', xlabel='')\n",
    "\n",
    "plt.show()"
   ]
  },
  {
   "cell_type": "code",
   "execution_count": null,
   "id": "afbee739",
   "metadata": {},
   "outputs": [],
   "source": [
    "ds[ds.type == 'align'].plot(\n",
    "    kind=\"bar\",\n",
    "    grid=False,\n",
    "    x='timestamp',\n",
    "    ylabel=\"Accepted\",\n",
    "    xticks=[], xlabel=\"\",\n",
    "    legend=False,\n",
    "    figsize=(16,1),\n",
    "    title=\"frame compliance to min. required match count. 1: Accepted, 0: Rejected\"\n",
    ")\n",
    "plt.show()"
   ]
  },
  {
   "cell_type": "code",
   "execution_count": null,
   "id": "c2ae2016",
   "metadata": {},
   "outputs": [],
   "source": [
    "ds[ds.type == 'align'].value.transform(lambda x: \"accepted\" if x == 1. else \"rejected\").value_counts().plot(\n",
    "    kind=\"pie\",\n",
    "    autopct='%1.1f%%',\n",
    "    title=\"accepted/rejected frames distribution\",\n",
    "    ylabel=\"\"\n",
    ")\n",
    "plt.show()"
   ]
  },
  {
   "cell_type": "markdown",
   "id": "e1b07d24",
   "metadata": {},
   "source": [
    "# Queues"
   ]
  },
  {
   "cell_type": "code",
   "execution_count": null,
   "id": "4331d4a2",
   "metadata": {},
   "outputs": [],
   "source": [
    "def plot_queue_size(data, title):\n",
    "    \n",
    "    data.plot(kind='bar', title=title,\n",
    "              x=\"timestamp\",\n",
    "              xlabel=\"\",\n",
    "              figsize=(16, 2),\n",
    "              legend=False, xticks=[])\n",
    "    plt.show()"
   ]
  },
  {
   "cell_type": "code",
   "execution_count": null,
   "id": "cf579ca1",
   "metadata": {},
   "outputs": [],
   "source": [
    "plot_queue_size(ds[ds.type == 'q_pre'], \"Pre-processing queue size\")"
   ]
  },
  {
   "cell_type": "code",
   "execution_count": null,
   "id": "90873c7b",
   "metadata": {},
   "outputs": [],
   "source": [
    "plot_queue_size(ds[ds.type == 'q_stack'], \"Stacking queue size\")"
   ]
  },
  {
   "cell_type": "code",
   "execution_count": null,
   "id": "9bbb9fd8",
   "metadata": {},
   "outputs": [],
   "source": [
    "plot_queue_size(ds[ds.type == 'q_post'], \"Post-processing queue size\")"
   ]
  },
  {
   "cell_type": "code",
   "execution_count": null,
   "id": "dbbd1933",
   "metadata": {},
   "outputs": [],
   "source": [
    "plot_queue_size(ds[ds.type == 'q_save'], \"Save queue size\")"
   ]
  },
  {
   "cell_type": "code",
   "execution_count": null,
   "id": "b345a66d",
   "metadata": {},
   "outputs": [],
   "source": [
    "data = ds[ds.type.str.startswith('q_')].copy()\n",
    "data.replace(to_replace={\n",
    "    \"q_pre\": \"Pre-processing\",\n",
    "    \"q_stack\": \"Stacking\",\n",
    "    \"q_post\": \"Post-processing\",\n",
    "    \"q_save\": \"Save\",\n",
    "    }, inplace=True)\n",
    "\n",
    "print(f'{data.shape[0]} queue events logged')\n",
    "plt.figure(figsize=(16, 6))\n",
    "plt.grid(False)\n",
    "ax = sns.lineplot(data = data,\n",
    "                  x=\"timestamp\",\n",
    "                  y='value',\n",
    "                  hue='type')\n",
    "ax.set_title(\"Combined queue sizes\")\n",
    "plt.show()"
   ]
  },
  {
   "cell_type": "markdown",
   "id": "fc9cf42b",
   "metadata": {},
   "source": [
    "# Timings"
   ]
  },
  {
   "cell_type": "code",
   "execution_count": null,
   "id": "a387f777",
   "metadata": {},
   "outputs": [],
   "source": [
    "ds[ds.type == 'frm_total'].plot(title=\"Total processing time per frame\",\n",
    "                                x=\"timestamp\",\n",
    "                                ylabel=\"Processing time (s)\", figsize=(16, 6), legend=False)\n",
    "plt.show()"
   ]
  },
  {
   "cell_type": "code",
   "execution_count": null,
   "id": "541c7513",
   "metadata": {},
   "outputs": [],
   "source": [
    "prepro_name_dict = {\n",
    "    'HotPixelRemover.process_image()': 'H.P. Remove',\n",
    "    'RemoveDark.process_image()': 'Dark remove',\n",
    "    'Debayer.process_image()': 'Debayer',\n",
    "    'Standardize.process_image()': 'Nomalize',\n",
    "    'read_disk_image()': 'Load'\n",
    "}\n",
    "\n",
    "plot_timings(prepro_name_dict, \"Pre-processing time\")"
   ]
  },
  {
   "cell_type": "code",
   "execution_count": null,
   "id": "4162f854",
   "metadata": {},
   "outputs": [],
   "source": [
    "stack_name_dict = {\n",
    "    \"Stacker._find_transformation()\": \"Find transf.\",\n",
    "    \"Stacker._apply_transformation()\": \"Apply Transf.\",\n",
    "    \"Stacker._stack_image()\": \"Stack\"\n",
    "}\n",
    "\n",
    "plot_timings(stack_name_dict, \"Stacking time\")"
   ]
  },
  {
   "cell_type": "code",
   "execution_count": null,
   "id": "6c1ce930",
   "metadata": {},
   "outputs": [],
   "source": [
    "old_new_pp_names_dict = {\n",
    "    'AutoStretch.process_image()': 'Stretch',\n",
    "    'Levels.process_image()': 'Levels',\n",
    "    'ColorBalance.process_image()': 'Col. Balance',\n",
    "    'ImageSaver._save_image()': 'Save'\n",
    "}\n",
    "\n",
    "plot_timings(old_new_pp_names_dict, \"Post-process timing\")"
   ]
  },
  {
   "cell_type": "code",
   "execution_count": null,
   "id": "ef149a18",
   "metadata": {},
   "outputs": [],
   "source": []
  }
 ],
 "metadata": {
  "celltoolbar": "Aucun(e)",
  "kernelspec": {
   "display_name": "venv",
   "language": "python",
   "name": "venv"
  },
  "language_info": {
   "codemirror_mode": {
    "name": "ipython",
    "version": 3
   },
   "file_extension": ".py",
   "mimetype": "text/x-python",
   "name": "python",
   "nbconvert_exporter": "python",
   "pygments_lexer": "ipython3",
   "version": "3.6.9"
  }
 },
 "nbformat": 4,
 "nbformat_minor": 5
}
