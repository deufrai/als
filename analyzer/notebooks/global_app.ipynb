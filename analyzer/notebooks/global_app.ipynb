{
 "cells": [
  {
   "cell_type": "code",
   "execution_count": null,
   "id": "c0d34208",
   "metadata": {},
   "outputs": [],
   "source": [
    "import pandas as pd\n",
    "import matplotlib.pyplot as plt\n",
    "import seaborn as sns\n",
    "\n",
    "plt.rcParams[\"figure.figsize\"] = (16, 3)\n",
    "plt.rcParams[\"axes.grid\"] = True\n",
    "pd.options.display.float_format = '{:.2f}'.format\n",
    "\n",
    "df = pd.read_csv(\"../csv/global_returns.csv\", delimiter=';', parse_dates=['timestamp'], index_col=0)\n",
    "ds = pd.read_csv(\"../csv/session.csv\", delimiter=';', parse_dates=['timestamp'], index_col=0)\n",
    "\n",
    "no_long_run_qery = '(name != \"QueueConsumer.run()\") and (name != \"WebServer.serve()\") and (~name.str.contains(\"pref\"))'"
   ]
  },
  {
   "cell_type": "code",
   "execution_count": null,
   "id": "ca9fe985",
   "metadata": {},
   "outputs": [],
   "source": [
    "names_dict = {\n",
    "    'als.stack': 'stacker',\n",
    "    'als.model.params': 'post-processor',\n",
    "    'als.io.output': \"image saver\",\n",
    "    'als.io.network': 'web server',\n",
    "    'als.io.input': 'file watcher',\n",
    "}\n",
    "\n",
    "modules_thread_group = df[df.thread != 'MainThread'].groupby('module').thread.unique()\n",
    "for module_name, thread_name in names_dict.items():\n",
    "    if module_name in modules_thread_group:\n",
    "        current_thread = modules_thread_group[module_name][0]\n",
    "        df.loc[df.thread == current_thread, 'thread'] = thread_name"
   ]
  },
  {
   "cell_type": "code",
   "execution_count": null,
   "id": "9313d241",
   "metadata": {},
   "outputs": [],
   "source": [
    "threads = df[df.thread != 'MainThread']\n",
    "\n",
    "for current in threads.thread.unique():\n",
    "    used_modules = threads.groupby('thread').get_group(current).module.unique()\n",
    "    if 'als.io.input' in used_modules and 'als.processing' in used_modules:\n",
    "        df.loc[df.thread == current, \"thread\"] = \"pre-processor\"\n",
    "        break"
   ]
  },
  {
   "cell_type": "code",
   "execution_count": null,
   "id": "b31cf142",
   "metadata": {},
   "outputs": [],
   "source": [
    "print(\"Available data\")\n",
    "print(\"==============\")\n",
    "print(f\"{df.shape[0]:>8} function returns\")\n",
    "print(f\"{ds.shape[0]:>8} session datapoints\")"
   ]
  },
  {
   "cell_type": "code",
   "execution_count": null,
   "id": "8b38f93b",
   "metadata": {},
   "outputs": [],
   "source": [
    "print(f\"ALS start time {str(df.index[0])}\")\n",
    "print(f\"ALS stop time  {str(df.index[-1])}\")"
   ]
  },
  {
   "cell_type": "code",
   "execution_count": null,
   "id": "082dadf4",
   "metadata": {},
   "outputs": [],
   "source": [
    "mem=ds[ds.type == 'memory'].copy()\n",
    "mem['value'] = mem['value'].apply(lambda m: m/1024/1024)\n",
    "\n",
    "mem.plot(title=\"Available memory\",\n",
    "    y=\"value\",\n",
    "    xlabel='',\n",
    "    ylabel=\"MB\",\n",
    "    legend=False,\n",
    "    figsize=(16, 4))\n",
    "plt.show()"
   ]
  },
  {
   "cell_type": "code",
   "execution_count": null,
   "id": "1b39a637",
   "metadata": {},
   "outputs": [],
   "source": [
    "df[\"module\"].value_counts().plot(kind=\"bar\", title=\"Function calls by module\")\n",
    "plt.show()"
   ]
  },
  {
   "cell_type": "code",
   "execution_count": null,
   "id": "68d902e8",
   "metadata": {},
   "outputs": [],
   "source": [
    "data_c = df['thread'].value_counts()\n",
    "data_t = df.query(no_long_run_qery).groupby(by=['thread']).sum('elapsed')\n",
    "data_c = pd.DataFrame(data_c)\n",
    "whole = pd.concat([data_c, data_t], axis=1).rename(columns={\"thread\": \"calls\"})\n",
    "whole.transpose()"
   ]
  },
  {
   "cell_type": "code",
   "execution_count": null,
   "id": "86688701",
   "metadata": {},
   "outputs": [],
   "source": [
    "whole.plot(kind=\"pie\", \n",
    "          title=\"Function calls by thread\", \n",
    "          figsize=(6, 6), \n",
    "          ylabel=\"\",\n",
    "           legend=\"\",\n",
    "           y='calls',\n",
    "          explode=list([0.1 for _ in range(len(data_c))]))"
   ]
  },
  {
   "cell_type": "code",
   "execution_count": null,
   "id": "74f7b0b6",
   "metadata": {},
   "outputs": [],
   "source": [
    "data_t.plot(\n",
    "    kind=\"pie\", title=\"elapsed time by thread\", autopct='%1.1f%%', y='elapsed',\n",
    "    legend=False, figsize=(6, 6), explode=list([0.1 for _ in range(len(data_t))]), ylabel='')\n",
    "plt.show()"
   ]
  },
  {
   "cell_type": "markdown",
   "id": "e930d04a",
   "metadata": {},
   "source": [
    "### Activity flow by module"
   ]
  },
  {
   "cell_type": "code",
   "execution_count": null,
   "id": "c440c717",
   "metadata": {},
   "outputs": [],
   "source": [
    "plt.figure(figsize=(16, 6))\n",
    "ax = sns.scatterplot(data=df,\n",
    "       x='timestamp',\n",
    "       y='module', hue='thread')\n",
    "ax.set_title(\"Activity flow by module\")\n",
    "plt.show()"
   ]
  },
  {
   "cell_type": "markdown",
   "id": "76c3e254",
   "metadata": {},
   "source": [
    "### Activity flow by thread"
   ]
  },
  {
   "cell_type": "code",
   "execution_count": null,
   "id": "28136468",
   "metadata": {},
   "outputs": [],
   "source": [
    "plt.figure(figsize=(16, 6))\n",
    "ax = sns.scatterplot(data=df,\n",
    "       x='timestamp',\n",
    "       y='thread', hue='module')\n",
    "ax.set_title(\"Activity flow by thread\")\n",
    "plt.show()"
   ]
  },
  {
   "cell_type": "markdown",
   "id": "fbeb7e48",
   "metadata": {},
   "source": [
    "### Thread / Module affinity"
   ]
  },
  {
   "cell_type": "code",
   "execution_count": null,
   "id": "a1c859ad",
   "metadata": {},
   "outputs": [],
   "source": [
    "plt.figure(figsize=(16, 6))\n",
    "\n",
    "data = df.query(no_long_run_qery)\n",
    "ax = sns.scatterplot(\n",
    "    data=data,\n",
    "    x='thread',\n",
    "    y='module', \n",
    "    size='elapsed', \n",
    "    sizes=(50, 600),\n",
    "    legend=\"\")\n",
    "\n",
    "ax.set_title(\"Thread / Module coupling\")\n",
    "\n",
    "plt.show()"
   ]
  },
  {
   "cell_type": "markdown",
   "id": "e4ae64bb",
   "metadata": {},
   "source": [
    "### 20 most called functions"
   ]
  },
  {
   "cell_type": "code",
   "execution_count": null,
   "id": "206bdc65",
   "metadata": {},
   "outputs": [],
   "source": [
    "df['name'].value_counts().head(20)"
   ]
  },
  {
   "cell_type": "markdown",
   "id": "e9b7e1da",
   "metadata": {},
   "source": [
    "### 20 longest function exection times on the main thread"
   ]
  },
  {
   "cell_type": "code",
   "execution_count": null,
   "id": "1aa79f13",
   "metadata": {},
   "outputs": [],
   "source": [
    "df[df.thread == \"MainThread\"].sort_values(by=['elapsed'], ascending=False).head(20)"
   ]
  },
  {
   "cell_type": "markdown",
   "id": "198ca147",
   "metadata": {},
   "source": [
    "### TOP 20 longest function mean execution time "
   ]
  },
  {
   "cell_type": "code",
   "execution_count": null,
   "id": "df4d141c",
   "metadata": {},
   "outputs": [],
   "source": [
    "data = df.query(no_long_run_qery)\n",
    "data.groupby('name').mean().sort_values(by=['elapsed'], ascending=False).head(20).plot(kind='bar')\n",
    "plt.show()"
   ]
  }
 ],
 "metadata": {
  "celltoolbar": "Aucun(e)",
  "kernelspec": {
   "display_name": "venv",
   "language": "python",
   "name": "venv"
  },
  "language_info": {
   "codemirror_mode": {
    "name": "ipython",
    "version": 3
   },
   "file_extension": ".py",
   "mimetype": "text/x-python",
   "name": "python",
   "nbconvert_exporter": "python",
   "pygments_lexer": "ipython3",
   "version": "3.6.9"
  }
 },
 "nbformat": 4,
 "nbformat_minor": 5
}