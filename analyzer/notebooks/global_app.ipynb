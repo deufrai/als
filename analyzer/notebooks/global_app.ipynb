{
 "cells": [
  {
   "cell_type": "code",
   "execution_count": null,
   "id": "c0d34208",
   "metadata": {},
   "outputs": [],
   "source": [
    "import pandas as pd\n",
    "import matplotlib.pyplot as plt\n",
    "import seaborn as sns\n",
    "\n",
    "plt.rcParams[\"figure.figsize\"] = (16, 3)\n",
    "plt.rcParams[\"axes.grid\"] = True\n",
    "\n",
    "df = pd.read_csv(\"../csv/global_returns.csv\", delimiter=';')\n",
    "ds = pd.read_csv(\"../csv/session.csv\", delimiter=';')"
   ]
  },
  {
   "cell_type": "code",
   "execution_count": null,
   "id": "b31cf142",
   "metadata": {},
   "outputs": [],
   "source": [
    "print(\"Available data\")\n",
    "print(\"==============\")\n",
    "print(f\"{df.shape[0]:>8} function returns\")\n",
    "print(f\"{ds.shape[0]:>8} session datapoints\")"
   ]
  },
  {
   "cell_type": "code",
   "execution_count": null,
   "id": "8b38f93b",
   "metadata": {},
   "outputs": [],
   "source": [
    "print(f\"ALS start time: {df.iloc[0,0][:-4]}\")\n",
    "print(f\"ALS stop time:  {df.iloc[-1,0][:-4]}\")"
   ]
  },
  {
   "cell_type": "code",
   "execution_count": null,
   "id": "2632072f",
   "metadata": {},
   "outputs": [],
   "source": [
    "df['timestamp'] = pd.to_datetime(df['timestamp'])"
   ]
  },
  {
   "cell_type": "code",
   "execution_count": null,
   "id": "082dadf4",
   "metadata": {},
   "outputs": [],
   "source": [
    "mem=ds[ds.type == 'memory'].copy()\n",
    "mem['value'] = mem['value'].apply(lambda m: m/1024/1024)\n",
    "\n",
    "mem.plot(title=\"Available memory\",\n",
    "    x='timestamp',\n",
    "    y=\"value\",\n",
    "    xlabel='',\n",
    "    ylabel=\"MB\",\n",
    "    legend=False,\n",
    "    figsize=(16, 4))\n",
    "plt.show()"
   ]
  },
  {
   "cell_type": "code",
   "execution_count": null,
   "id": "1b39a637",
   "metadata": {},
   "outputs": [],
   "source": [
    "df[\"module\"].value_counts().plot(kind=\"bar\", title=\"Function calls by module\")\n",
    "plt.show()"
   ]
  },
  {
   "cell_type": "code",
   "execution_count": null,
   "id": "74f7b0b6",
   "metadata": {},
   "outputs": [],
   "source": [
    "df['thread'].value_counts().plot(kind=\"pie\", title=\"Function calls by thread\", figsize=(6, 6))\n",
    "plt.show()"
   ]
  },
  {
   "cell_type": "code",
   "execution_count": null,
   "id": "c440c717",
   "metadata": {},
   "outputs": [],
   "source": [
    "plt.figure(figsize=(16, 6))\n",
    "ax = sns.scatterplot(data=df,\n",
    "       x='timestamp',\n",
    "       y='module', hue='thread')\n",
    "ax.set_title(\"Activity flow by module\")\n",
    "plt.show()"
   ]
  },
  {
   "cell_type": "code",
   "execution_count": null,
   "id": "28136468",
   "metadata": {},
   "outputs": [],
   "source": [
    "plt.figure(figsize=(16, 6))\n",
    "ax = sns.scatterplot(data=df,\n",
    "       x='timestamp',\n",
    "       y='thread', hue='module')\n",
    "ax.set_title(\"Activity flow by thread\")\n",
    "plt.show()"
   ]
  },
  {
   "cell_type": "code",
   "execution_count": null,
   "id": "a1c859ad",
   "metadata": {},
   "outputs": [],
   "source": [
    "plt.figure(figsize=(16, 6))\n",
    "ax = sns.scatterplot(data=df,\n",
    "       x='thread',\n",
    "       y='module', size='elapsed')\n",
    "ax.set_title(\"Thread / Module coupling\")\n",
    "plt.show()"
   ]
  },
  {
   "cell_type": "code",
   "execution_count": null,
   "id": "133faa40",
   "metadata": {},
   "outputs": [],
   "source": [
    "df.query('\"QueueConsumer.run()\" != name').groupby(by=['thread']).sum('elapsed').plot(\n",
    "    y='elapsed', kind=\"pie\", title=\"elapsed time by thread\",\n",
    "    legend=False, figsize=(6, 6))\n",
    "plt.show()"
   ]
  },
  {
   "cell_type": "markdown",
   "id": "e4ae64bb",
   "metadata": {},
   "source": [
    "20 most called functions"
   ]
  },
  {
   "cell_type": "code",
   "execution_count": null,
   "id": "206bdc65",
   "metadata": {},
   "outputs": [],
   "source": [
    "df['name'].value_counts().head(20)"
   ]
  },
  {
   "cell_type": "markdown",
   "id": "e9b7e1da",
   "metadata": {},
   "source": [
    "20 longest single function exection times on the main thread"
   ]
  },
  {
   "cell_type": "code",
   "execution_count": null,
   "id": "1aa79f13",
   "metadata": {},
   "outputs": [],
   "source": [
    "df[df.thread == \"MainThread\"].sort_values(by=['elapsed'], ascending=False).head(20)"
   ]
  }
 ],
 "metadata": {
  "celltoolbar": "Aucun(e)",
  "kernelspec": {
   "display_name": "venv",
   "language": "python",
   "name": "venv"
  },
  "language_info": {
   "codemirror_mode": {
    "name": "ipython",
    "version": 3
   },
   "file_extension": ".py",
   "mimetype": "text/x-python",
   "name": "python",
   "nbconvert_exporter": "python",
   "pygments_lexer": "ipython3",
   "version": "3.6.9"
  }
 },
 "nbformat": 4,
 "nbformat_minor": 5
}
