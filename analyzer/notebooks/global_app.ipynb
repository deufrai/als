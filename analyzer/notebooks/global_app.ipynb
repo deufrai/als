{
 "cells": [
  {
   "cell_type": "code",
   "execution_count": null,
   "id": "c0d34208",
   "metadata": {},
   "outputs": [],
   "source": [
    "import pandas as pd\n",
    "import matplotlib.pyplot as plt\n",
    "\n",
    "plt.rcParams[\"figure.figsize\"] = (12, 3)\n",
    "plt.rcParams[\"axes.grid\"] = True\n",
    "\n",
    "df = pd.read_csv(\"../csv/global_returns.csv\", delimiter=';')"
   ]
  },
  {
   "cell_type": "markdown",
   "id": "27a60b19",
   "metadata": {},
   "source": [
    "# Global log"
   ]
  },
  {
   "cell_type": "code",
   "execution_count": null,
   "id": "b31cf142",
   "metadata": {},
   "outputs": [],
   "source": [
    "df.shape"
   ]
  },
  {
   "cell_type": "code",
   "execution_count": null,
   "id": "c126f5d7",
   "metadata": {},
   "outputs": [],
   "source": [
    "df.head(20)"
   ]
  },
  {
   "cell_type": "code",
   "execution_count": null,
   "id": "63e81303",
   "metadata": {},
   "outputs": [],
   "source": [
    "df.dtypes"
   ]
  },
  {
   "cell_type": "code",
   "execution_count": null,
   "id": "61f6ac13",
   "metadata": {},
   "outputs": [],
   "source": [
    "df['timestamp'] = pd.to_datetime(df['timestamp'])"
   ]
  },
  {
   "cell_type": "code",
   "execution_count": null,
   "id": "74439325",
   "metadata": {},
   "outputs": [],
   "source": [
    "df.dtypes"
   ]
  },
  {
   "cell_type": "code",
   "execution_count": null,
   "id": "24b98383",
   "metadata": {},
   "outputs": [],
   "source": [
    "df.query('\"QueueConsumer.run()\" == name')"
   ]
  },
  {
   "cell_type": "code",
   "execution_count": null,
   "id": "f03fd0e9",
   "metadata": {},
   "outputs": [],
   "source": [
    "df.query('\"QueueConsumer.run()\" != name').sort_values(by='elapsed', ascending=False).head(50)"
   ]
  },
  {
   "cell_type": "code",
   "execution_count": null,
   "id": "1b39a637",
   "metadata": {},
   "outputs": [],
   "source": [
    "df[\"module\"].value_counts().plot(kind=\"bar\", title=\"Function calls by module\")\n",
    "plt.show()"
   ]
  },
  {
   "cell_type": "code",
   "execution_count": null,
   "id": "74f7b0b6",
   "metadata": {},
   "outputs": [],
   "source": [
    "df['thread'].value_counts().plot(kind=\"pie\", title=\"Function calls by thread\")\n",
    "plt.show()"
   ]
  },
  {
   "cell_type": "code",
   "execution_count": null,
   "id": "9a899ab1",
   "metadata": {},
   "outputs": [],
   "source": [
    "df['timestamp']"
   ]
  },
  {
   "cell_type": "code",
   "execution_count": null,
   "id": "c440c717",
   "metadata": {},
   "outputs": [],
   "source": [
    "df.plot(kind='scatter',\n",
    "       x='timestamp',\n",
    "       y='module')"
   ]
  },
  {
   "cell_type": "code",
   "execution_count": null,
   "id": "a0c6c802",
   "metadata": {},
   "outputs": [],
   "source": [
    "df.plot(kind=\"scatter\", x='timestamp', y='thread')"
   ]
  },
  {
   "cell_type": "code",
   "execution_count": null,
   "id": "0e7c04dd",
   "metadata": {},
   "outputs": [],
   "source": [
    "df.plot(kind=\"scatter\", x='thread', y='module')"
   ]
  },
  {
   "cell_type": "code",
   "execution_count": null,
   "id": "206bdc65",
   "metadata": {},
   "outputs": [],
   "source": [
    "df['name'].value_counts()"
   ]
  }
 ],
 "metadata": {
  "celltoolbar": "Aucun(e)",
  "kernelspec": {
   "display_name": "venv",
   "language": "python",
   "name": "venv"
  },
  "language_info": {
   "codemirror_mode": {
    "name": "ipython",
    "version": 3
   },
   "file_extension": ".py",
   "mimetype": "text/x-python",
   "name": "python",
   "nbconvert_exporter": "python",
   "pygments_lexer": "ipython3",
   "version": "3.8.10"
  }
 },
 "nbformat": 4,
 "nbformat_minor": 5
}
