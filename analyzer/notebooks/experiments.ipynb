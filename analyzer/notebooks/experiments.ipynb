{
 "cells": [
  {
   "cell_type": "code",
   "execution_count": null,
   "id": "50b34882",
   "metadata": {},
   "outputs": [],
   "source": [
    "import pandas as pd\n",
    "import matplotlib.pyplot as plt\n",
    "plt.rcParams[\"figure.figsize\"] = (12, 3)\n",
    "plt.rcParams[\"axes.grid\"] = True\n",
    "df = pd.read_csv(\"../csv/session.csv\", delimiter=';')"
   ]
  },
  {
   "cell_type": "code",
   "execution_count": null,
   "id": "9293f97d",
   "metadata": {},
   "outputs": [],
   "source": [
    "df.dtypes"
   ]
  },
  {
   "cell_type": "code",
   "execution_count": null,
   "id": "c5228372",
   "metadata": {},
   "outputs": [],
   "source": [
    "df['timestamp'] = pd.to_datetime(df['timestamp'])"
   ]
  },
  {
   "cell_type": "code",
   "execution_count": null,
   "id": "7ee758b6",
   "metadata": {},
   "outputs": [],
   "source": [
    "df.dtypes"
   ]
  },
  {
   "cell_type": "code",
   "execution_count": null,
   "id": "a60970f1",
   "metadata": {},
   "outputs": [],
   "source": [
    "df.head(50)"
   ]
  },
  {
   "cell_type": "code",
   "execution_count": null,
   "id": "2068f071",
   "metadata": {},
   "outputs": [],
   "source": [
    "df.loc[df['type'] == 'ratio'].head(30)"
   ]
  },
  {
   "cell_type": "code",
   "execution_count": null,
   "id": "d6fdabcb",
   "metadata": {},
   "outputs": [],
   "source": [
    "df.head()"
   ]
  },
  {
   "cell_type": "code",
   "execution_count": null,
   "id": "b202c008",
   "metadata": {},
   "outputs": [],
   "source": [
    "df[df['type'] == 'memory']"
   ]
  },
  {
   "cell_type": "code",
   "execution_count": null,
   "id": "e4ef1514",
   "metadata": {},
   "outputs": [],
   "source": [
    "df[df['type'] == 'memory'].plot(x='timestamp', y='value', label='memory')"
   ]
  },
  {
   "cell_type": "code",
   "execution_count": null,
   "id": "348748e7",
   "metadata": {},
   "outputs": [],
   "source": [
    "my_ax = df[df['type'] == 'x_trans'].plot(\n",
    "    x='timestamp', y='value', label='x_trans', title=\"image transltation\", ylabel=\"Translation (px)\")\n",
    "\n",
    "df[df['type'] == 'y_trans'].plot(x='timestamp', y='value', label='y_trans', ax=my_ax)"
   ]
  },
  {
   "cell_type": "code",
   "execution_count": null,
   "id": "ded70e64",
   "metadata": {},
   "outputs": [],
   "source": [
    "ax = df[df.type == 'scale'].plot(x='timestamp', y='value', label='scale')"
   ]
  },
  {
   "cell_type": "code",
   "execution_count": null,
   "id": "153c2f8b",
   "metadata": {},
   "outputs": [],
   "source": []
  },
  {
   "cell_type": "code",
   "execution_count": null,
   "id": "c4bcb15a",
   "metadata": {},
   "outputs": [],
   "source": []
  },
  {
   "cell_type": "code",
   "execution_count": null,
   "id": "1b6332c7",
   "metadata": {},
   "outputs": [],
   "source": []
  }
 ],
 "metadata": {
  "kernelspec": {
   "display_name": "venv",
   "language": "python",
   "name": "venv"
  },
  "language_info": {
   "codemirror_mode": {
    "name": "ipython",
    "version": 3
   },
   "file_extension": ".py",
   "mimetype": "text/x-python",
   "name": "python",
   "nbconvert_exporter": "python",
   "pygments_lexer": "ipython3",
   "version": "3.8.10"
  }
 },
 "nbformat": 4,
 "nbformat_minor": 5
}
